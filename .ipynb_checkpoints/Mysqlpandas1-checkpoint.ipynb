{
 "cells": [
  {
   "cell_type": "markdown",
   "metadata": {},
   "source": [
    "### In questo Notebook attuiamo alcune elaborazioni sui dati ANKI letti direttamente dalla tabella MYSQL"
   ]
  },
  {
   "cell_type": "code",
   "execution_count": 1,
   "metadata": {
    "collapsed": false
   },
   "outputs": [],
   "source": [
    "import mysql.connector as sql\n",
    "import pandas as pd\n",
    "\n",
    "db_connection = sql.connect(host='52.208.150.140', database='home1', user='anki', password='welcome1')"
   ]
  },
  {
   "cell_type": "code",
   "execution_count": 2,
   "metadata": {
    "collapsed": true
   },
   "outputs": [],
   "source": [
    "df = pd.read_sql('SELECT * FROM laps', con=db_connection)"
   ]
  },
  {
   "cell_type": "code",
   "execution_count": 3,
   "metadata": {
    "collapsed": false
   },
   "outputs": [
    {
     "data": {
      "text/html": [
       "<div>\n",
       "<table border=\"1\" class=\"dataframe\">\n",
       "  <thead>\n",
       "    <tr style=\"text-align: right;\">\n",
       "      <th></th>\n",
       "      <th>raceId</th>\n",
       "      <th>carName</th>\n",
       "      <th>lap</th>\n",
       "      <th>lapTime</th>\n",
       "    </tr>\n",
       "  </thead>\n",
       "  <tbody>\n",
       "    <tr>\n",
       "      <th>0</th>\n",
       "      <td>256</td>\n",
       "      <td>Skull</td>\n",
       "      <td>1</td>\n",
       "      <td>21285</td>\n",
       "    </tr>\n",
       "    <tr>\n",
       "      <th>1</th>\n",
       "      <td>256</td>\n",
       "      <td>Ground Shock</td>\n",
       "      <td>1</td>\n",
       "      <td>20228</td>\n",
       "    </tr>\n",
       "    <tr>\n",
       "      <th>2</th>\n",
       "      <td>256</td>\n",
       "      <td>Thermo</td>\n",
       "      <td>1</td>\n",
       "      <td>19175</td>\n",
       "    </tr>\n",
       "    <tr>\n",
       "      <th>3</th>\n",
       "      <td>256</td>\n",
       "      <td>Skull</td>\n",
       "      <td>2</td>\n",
       "      <td>7546</td>\n",
       "    </tr>\n",
       "    <tr>\n",
       "      <th>4</th>\n",
       "      <td>256</td>\n",
       "      <td>Ground Shock</td>\n",
       "      <td>2</td>\n",
       "      <td>7360</td>\n",
       "    </tr>\n",
       "    <tr>\n",
       "      <th>5</th>\n",
       "      <td>256</td>\n",
       "      <td>Thermo</td>\n",
       "      <td>2</td>\n",
       "      <td>9785</td>\n",
       "    </tr>\n",
       "    <tr>\n",
       "      <th>6</th>\n",
       "      <td>256</td>\n",
       "      <td>Ground Shock</td>\n",
       "      <td>3</td>\n",
       "      <td>7219</td>\n",
       "    </tr>\n",
       "    <tr>\n",
       "      <th>7</th>\n",
       "      <td>256</td>\n",
       "      <td>Skull</td>\n",
       "      <td>3</td>\n",
       "      <td>9432</td>\n",
       "    </tr>\n",
       "    <tr>\n",
       "      <th>8</th>\n",
       "      <td>256</td>\n",
       "      <td>Thermo</td>\n",
       "      <td>3</td>\n",
       "      <td>11828</td>\n",
       "    </tr>\n",
       "    <tr>\n",
       "      <th>9</th>\n",
       "      <td>256</td>\n",
       "      <td>Ground Shock</td>\n",
       "      <td>4</td>\n",
       "      <td>8300</td>\n",
       "    </tr>\n",
       "    <tr>\n",
       "      <th>10</th>\n",
       "      <td>256</td>\n",
       "      <td>Skull</td>\n",
       "      <td>4</td>\n",
       "      <td>8564</td>\n",
       "    </tr>\n",
       "    <tr>\n",
       "      <th>11</th>\n",
       "      <td>256</td>\n",
       "      <td>Ground Shock</td>\n",
       "      <td>5</td>\n",
       "      <td>7231</td>\n",
       "    </tr>\n",
       "    <tr>\n",
       "      <th>12</th>\n",
       "      <td>256</td>\n",
       "      <td>Thermo</td>\n",
       "      <td>4</td>\n",
       "      <td>11761</td>\n",
       "    </tr>\n",
       "    <tr>\n",
       "      <th>13</th>\n",
       "      <td>256</td>\n",
       "      <td>Skull</td>\n",
       "      <td>5</td>\n",
       "      <td>8617</td>\n",
       "    </tr>\n",
       "    <tr>\n",
       "      <th>14</th>\n",
       "      <td>256</td>\n",
       "      <td>Ground Shock</td>\n",
       "      <td>6</td>\n",
       "      <td>8206</td>\n",
       "    </tr>\n",
       "    <tr>\n",
       "      <th>15</th>\n",
       "      <td>256</td>\n",
       "      <td>Skull</td>\n",
       "      <td>6</td>\n",
       "      <td>9585</td>\n",
       "    </tr>\n",
       "    <tr>\n",
       "      <th>16</th>\n",
       "      <td>256</td>\n",
       "      <td>Thermo</td>\n",
       "      <td>5</td>\n",
       "      <td>11756</td>\n",
       "    </tr>\n",
       "    <tr>\n",
       "      <th>17</th>\n",
       "      <td>256</td>\n",
       "      <td>Ground Shock</td>\n",
       "      <td>7</td>\n",
       "      <td>7291</td>\n",
       "    </tr>\n",
       "    <tr>\n",
       "      <th>18</th>\n",
       "      <td>256</td>\n",
       "      <td>Skull</td>\n",
       "      <td>7</td>\n",
       "      <td>8614</td>\n",
       "    </tr>\n",
       "    <tr>\n",
       "      <th>19</th>\n",
       "      <td>256</td>\n",
       "      <td>Ground Shock</td>\n",
       "      <td>8</td>\n",
       "      <td>7212</td>\n",
       "    </tr>\n",
       "    <tr>\n",
       "      <th>20</th>\n",
       "      <td>256</td>\n",
       "      <td>Thermo</td>\n",
       "      <td>6</td>\n",
       "      <td>11780</td>\n",
       "    </tr>\n",
       "    <tr>\n",
       "      <th>21</th>\n",
       "      <td>256</td>\n",
       "      <td>Skull</td>\n",
       "      <td>8</td>\n",
       "      <td>9534</td>\n",
       "    </tr>\n",
       "    <tr>\n",
       "      <th>22</th>\n",
       "      <td>256</td>\n",
       "      <td>Ground Shock</td>\n",
       "      <td>9</td>\n",
       "      <td>9370</td>\n",
       "    </tr>\n",
       "    <tr>\n",
       "      <th>23</th>\n",
       "      <td>256</td>\n",
       "      <td>Thermo</td>\n",
       "      <td>7</td>\n",
       "      <td>11729</td>\n",
       "    </tr>\n",
       "    <tr>\n",
       "      <th>24</th>\n",
       "      <td>256</td>\n",
       "      <td>Ground Shock</td>\n",
       "      <td>10</td>\n",
       "      <td>7135</td>\n",
       "    </tr>\n",
       "    <tr>\n",
       "      <th>25</th>\n",
       "      <td>256</td>\n",
       "      <td>Skull</td>\n",
       "      <td>9</td>\n",
       "      <td>8531</td>\n",
       "    </tr>\n",
       "    <tr>\n",
       "      <th>26</th>\n",
       "      <td>256</td>\n",
       "      <td>Ground Shock</td>\n",
       "      <td>11</td>\n",
       "      <td>7299</td>\n",
       "    </tr>\n",
       "  </tbody>\n",
       "</table>\n",
       "</div>"
      ],
      "text/plain": [
       "   raceId       carName  lap  lapTime\n",
       "0     256         Skull    1    21285\n",
       "1     256  Ground Shock    1    20228\n",
       "2     256        Thermo    1    19175\n",
       "3     256         Skull    2     7546\n",
       "4     256  Ground Shock    2     7360\n",
       "5     256        Thermo    2     9785\n",
       "6     256  Ground Shock    3     7219\n",
       "7     256         Skull    3     9432\n",
       "8     256        Thermo    3    11828\n",
       "9     256  Ground Shock    4     8300\n",
       "10    256         Skull    4     8564\n",
       "11    256  Ground Shock    5     7231\n",
       "12    256        Thermo    4    11761\n",
       "13    256         Skull    5     8617\n",
       "14    256  Ground Shock    6     8206\n",
       "15    256         Skull    6     9585\n",
       "16    256        Thermo    5    11756\n",
       "17    256  Ground Shock    7     7291\n",
       "18    256         Skull    7     8614\n",
       "19    256  Ground Shock    8     7212\n",
       "20    256        Thermo    6    11780\n",
       "21    256         Skull    8     9534\n",
       "22    256  Ground Shock    9     9370\n",
       "23    256        Thermo    7    11729\n",
       "24    256  Ground Shock   10     7135\n",
       "25    256         Skull    9     8531\n",
       "26    256  Ground Shock   11     7299"
      ]
     },
     "execution_count": 3,
     "metadata": {},
     "output_type": "execute_result"
    }
   ],
   "source": [
    "df"
   ]
  },
  {
   "cell_type": "code",
   "execution_count": 4,
   "metadata": {
    "collapsed": false
   },
   "outputs": [],
   "source": [
    "# identifica l'ultima corsa svolta\n",
    "lastRace = df['raceId'].max()"
   ]
  },
  {
   "cell_type": "code",
   "execution_count": 5,
   "metadata": {
    "collapsed": false
   },
   "outputs": [],
   "source": [
    "# seleziona i dati dell'ultima corsa nel dataframe dfLast\n",
    "dfLast = df.loc[df['raceId'] == lastRace]"
   ]
  },
  {
   "cell_type": "code",
   "execution_count": 6,
   "metadata": {
    "collapsed": false
   },
   "outputs": [],
   "source": [
    "# identifica le auto che hanno partecipato\n",
    "cars = dfLast['carName'].unique()"
   ]
  },
  {
   "cell_type": "code",
   "execution_count": 7,
   "metadata": {
    "collapsed": false
   },
   "outputs": [
    {
     "data": {
      "text/plain": [
       "<matplotlib.legend.Legend at 0x10f30d438>"
      ]
     },
     "execution_count": 7,
     "metadata": {},
     "output_type": "execute_result"
    }
   ],
   "source": [
    "# fa il il plot dei tempi per lap\n",
    "import matplotlib, matplotlib.pyplot as plt\n",
    "\n",
    "for car in cars:\n",
    "    xp = dfLast.loc[df['carName'] == car]['lap']\n",
    "    yp = dfLast.loc[df['carName'] == car]['lapTime']\n",
    "    plt.plot(xp, yp, \"-o\")\n",
    "\n",
    "plt.xlabel(\"lap\")\n",
    "plt.ylabel(\"time (msec)\")\n",
    "plt.title(\"Lap times\")\n",
    "plt.legend(cars)"
   ]
  },
  {
   "cell_type": "code",
   "execution_count": 8,
   "metadata": {
    "collapsed": false,
    "scrolled": true
   },
   "outputs": [
    {
     "data": {
      "image/png": "[encoded data removed]",
      "text/plain": [
       "<matplotlib.figure.Figure at 0x10f35cc18>"
      ]
     },
     "metadata": {},
     "output_type": "display_data"
    }
   ],
   "source": [
    "plt.show()"
   ]
  },
  {
   "cell_type": "code",
   "execution_count": 9,
   "metadata": {
    "collapsed": true
   },
   "outputs": [],
   "source": [
    "dfSpeed = pd.read_sql('SELECT * FROM speed', con=db_connection)"
   ]
  },
  {
   "cell_type": "code",
   "execution_count": 10,
   "metadata": {
    "collapsed": true
   },
   "outputs": [],
   "source": [
    "carsSpeed = dfSpeed['carName'].unique()"
   ]
  },
  {
   "cell_type": "code",
   "execution_count": 23,
   "metadata": {
    "collapsed": false
   },
   "outputs": [
    {
     "data": {
      "image/png": "[encoded data removed]",
      "text/plain": [
       "<matplotlib.figure.Figure at 0x113174eb8>"
      ]
     },
     "metadata": {},
     "output_type": "display_data"
    }
   ],
   "source": [
    "for car in carsSpeed:\n",
    "    xp = pd.to_datetime(dfSpeed.loc[dfSpeed['carName'] == car]['dTimeString'])\n",
    "    yp = dfSpeed.loc[dfSpeed['carName'] == car]['speed']\n",
    "    plt.plot(xp, yp, \"-o\")\n",
    "\n",
    "plt.xlabel(\"time\")\n",
    "plt.ylabel(\"speed\")\n",
    "plt.title(\"Speed\")\n",
    "plt.legend(cars)\n",
    "plt.show()"
   ]
  },
  {
   "cell_type": "code",
   "execution_count": null,
   "metadata": {
    "collapsed": true
   },
   "outputs": [],
   "source": []
  }
 ],
 "metadata": {
  "kernelspec": {
   "display_name": "Python 3",
   "language": "python",
   "name": "python3"
  },
  "language_info": {
   "codemirror_mode": {
    "name": "ipython",
    "version": 3
   },
   "file_extension": ".py",
   "mimetype": "text/x-python",
   "name": "python",
   "nbconvert_exporter": "python",
   "pygments_lexer": "ipython3",
   "version": "3.6.0"
  }
 },
 "nbformat": 4,
 "nbformat_minor": 2
}
