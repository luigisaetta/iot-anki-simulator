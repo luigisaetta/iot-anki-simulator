{
 "cells": [
  {
   "cell_type": "code",
   "execution_count": 1,
   "metadata": {
    "collapsed": true
   },
   "outputs": [],
   "source": [
    "import mysql.connector\n",
    "import dbconfig as cfg"
   ]
  },
  {
   "cell_type": "code",
   "execution_count": 2,
   "metadata": {
    "collapsed": false
   },
   "outputs": [],
   "source": [
    "cnx = mysql.connector.connect(host=cfg.mysql['host'], user=cfg.mysql['user'], \n",
    "                               password=cfg.mysql['password'], \n",
    "                               database=cfg.mysql['database'])"
   ]
  },
  {
   "cell_type": "code",
   "execution_count": 3,
   "metadata": {
    "collapsed": true
   },
   "outputs": [],
   "source": [
    "cursor = cnx.cursor()\n",
    "\n",
    "query = (\"SELECT raceId, carName, lap, lapTime FROM laps \"\n",
    "         \"WHERE raceId = (SELECT MAX(raceId) FROM laps) ORDER BY raceId, carName, lap\")"
   ]
  },
  {
   "cell_type": "code",
   "execution_count": 4,
   "metadata": {
    "collapsed": false
   },
   "outputs": [],
   "source": [
    "cursor.execute(query)\n"
   ]
  },
  {
   "cell_type": "code",
   "execution_count": 5,
   "metadata": {
    "collapsed": false
   },
   "outputs": [
    {
     "name": "stdout",
     "output_type": "stream",
     "text": [
      "\n",
      "|*************************************|\n",
      "|raceId - carName    - lap  - lapTime |\n",
      "|*************************************|\n",
      "|253    | Skull      | 1    | 31440   |\n",
      "|253    | Skull      | 2    | 9620    |\n",
      "|253    | Skull      | 3    | 7633    |\n",
      "|253    | Skull      | 4    | 6594    |\n",
      "|253    | Skull      | 5    | 7462    |\n",
      "|253    | Skull      | 6    | 258072  |\n",
      "|253    | Skull      | 7    | 9079    |\n",
      "|253    | Skull      | 8    | 10999   |\n",
      "|253    | Skull      | 9    | 9967    |\n",
      "|253    | Skull      | 10   | 11058   |\n",
      "|253    | Skull      | 11   | 9938    |\n",
      "|253    | Skull      | 12   | 10933   |\n",
      "|253    | Skull      | 13   | 10052   |\n",
      "|253    | Skull      | 14   | 10934   |\n",
      "|253    | Skull      | 15   | 10271   |\n",
      "|253    | Thermo     | 1    | 33768   |\n",
      "|253    | Thermo     | 2    | 7725    |\n",
      "|253    | Thermo     | 3    | 7675    |\n",
      "|253    | Thermo     | 4    | 270317  |\n",
      "|253    | Thermo     | 5    | 7758    |\n",
      "|253    | Thermo     | 6    | 8631    |\n",
      "|253    | Thermo     | 7    | 7621    |\n",
      "|253    | Thermo     | 8    | 8656    |\n",
      "|253    | Thermo     | 9    | 7672    |\n",
      "|253    | Thermo     | 10   | 8694    |\n",
      "|253    | Thermo     | 11   | 7837    |\n",
      "|253    | Thermo     | 12   | 7669    |\n",
      "|253    | Thermo     | 13   | 8760    |\n",
      "|253    | Thermo     | 14   | 7670    |\n",
      "|253    | Thermo     | 15   | 8756    |\n",
      "|253    | Thermo     | 16   | 7982    |\n",
      "|253    | Thermo     | 17   | 7817    |\n",
      "\n"
     ]
    },
    {
     "data": {
      "text/plain": [
       "True"
      ]
     },
     "execution_count": 5,
     "metadata": {},
     "output_type": "execute_result"
    }
   ],
   "source": [
    "# Heading\n",
    "print()\n",
    "print(\"|*************************************|\")\n",
    "print(\"|{:6} - {:10} - {:4} - {:8}|\".format(\"raceId\", \"carName\", \"lap\", \"lapTime\"))\n",
    "print(\"|*************************************|\")\n",
    "\n",
    "for (raceId, carName, lap, lapTime) in cursor:\n",
    "    print(\"|{:6} | {:10} | {:4} | {:8}|\".format(raceId, carName, str(lap), str(lapTime)))\n",
    "\n",
    "print()\n",
    "\n",
    "cursor.close()"
   ]
  },
  {
   "cell_type": "code",
   "execution_count": null,
   "metadata": {
    "collapsed": true
   },
   "outputs": [],
   "source": []
  }
 ],
 "metadata": {
  "kernelspec": {
   "display_name": "Python 3",
   "language": "python",
   "name": "python3"
  },
  "language_info": {
   "codemirror_mode": {
    "name": "ipython",
    "version": 3
   },
   "file_extension": ".py",
   "mimetype": "text/x-python",
   "name": "python",
   "nbconvert_exporter": "python",
   "pygments_lexer": "ipython3",
   "version": "3.6.0"
  }
 },
 "nbformat": 4,
 "nbformat_minor": 2
}
